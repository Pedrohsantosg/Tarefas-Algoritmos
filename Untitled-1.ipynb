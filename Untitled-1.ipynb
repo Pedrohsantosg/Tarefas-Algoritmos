{
 "cells": [
  {
   "cell_type": "markdown",
   "metadata": {},
   "source": [
    "1. Faça um Programa que peça um número e então mostre a mensagem: O número informado foi [número]."
   ]
  },
  {
   "cell_type": "code",
   "execution_count": 9,
   "metadata": {},
   "outputs": [
    {
     "name": "stdout",
     "output_type": "stream",
     "text": [
      "Seu número é 12.2\n"
     ]
    }
   ],
   "source": [
    "try:\n",
    "    num = float(input(\"Digite um número: \"))\n",
    "    print(f\"O número informado foi {num}\")\n",
    "except:\n",
    "    print(\"Não é um número\")"
   ]
  },
  {
   "cell_type": "markdown",
   "metadata": {},
   "source": [
    "2. Faça um Programa que peça dois números e imprima a soma."
   ]
  },
  {
   "cell_type": "code",
   "execution_count": 12,
   "metadata": {},
   "outputs": [
    {
     "name": "stdout",
     "output_type": "stream",
     "text": [
      "Não é um número\n"
     ]
    }
   ],
   "source": [
    "try:\n",
    "    num1 = float(input(\"Digite o primeiro número: \"))\n",
    "    num2 = float(input(\"Digite o segundo número: \"))\n",
    "\n",
    "    print(f\"A soma entre {num1} e {num2} é {num1+num2}\")\n",
    "except:\n",
    "    print(\"Não é um número\")"
   ]
  },
  {
   "cell_type": "markdown",
   "metadata": {},
   "source": [
    "3. Faça um Programa que peça as 4 notas bimestrais e mostre a média."
   ]
  },
  {
   "cell_type": "code",
   "execution_count": 28,
   "metadata": {},
   "outputs": [
    {
     "name": "stdout",
     "output_type": "stream",
     "text": [
      "Sua média é 5.75\n"
     ]
    }
   ],
   "source": [
    "try: \n",
    "    nota1 = float(input(\"Digite a primeira nota: \"))\n",
    "    if nota1 >= 0:\n",
    "        nota2 = float(input(\"Digite a segunda nota: \"))\n",
    "        if nota2 >= 0:\n",
    "            nota3 = float(input(\"Digite a terceira nota: \"))\n",
    "            if nota3 >= 0:\n",
    "                nota4 = float(input(\"Digite a quarta nota: \"))\n",
    "                if nota4 >= 0:\n",
    "                    media = (nota1+nota2+nota3+nota4)/4\n",
    "                    print(\"Sua média é {media}\")\n",
    "                else:\n",
    "                    print(\"Essa nota não é positiva\")\n",
    "            else:\n",
    "                print(\"Essa nota não é positiva\")\n",
    "        else:\n",
    "            print(\"Essa nota não é positiva\")\n",
    "    else:\n",
    "        print(\"Essa nota não é positiva\")\n",
    "\n",
    "except:\n",
    "    print(\"Não é um número\")"
   ]
  },
  {
   "cell_type": "markdown",
   "metadata": {},
   "source": [
    "4. Faça um Programa que converta metros para centímetros."
   ]
  },
  {
   "cell_type": "code",
   "execution_count": 46,
   "metadata": {},
   "outputs": [
    {
     "name": "stdout",
     "output_type": "stream",
     "text": [
      "Sua distância 0.0m em cm é: 0.0cm\n"
     ]
    }
   ],
   "source": [
    "try:\n",
    "    metro = float(input(\"Digite uma distância em metros: \"))\n",
    "    if metro >= 0:\n",
    "        cm = metro*100\n",
    "        print(f\"Sua distância {metro}m em cm é: {cm}cm\")\n",
    "    else:\n",
    "        print(\"Essa medida não é positiva\")\n",
    "\n",
    "except:\n",
    "    print(\"Não é um número\")"
   ]
  },
  {
   "cell_type": "markdown",
   "metadata": {},
   "source": [
    "5. Faça um Programa que peça o raio de um círculo, calcule e mostre sua área."
   ]
  },
  {
   "cell_type": "code",
   "execution_count": 47,
   "metadata": {},
   "outputs": [
    {
     "name": "stdout",
     "output_type": "stream",
     "text": [
      "Não há área, pois o raio é igual a 0\n"
     ]
    }
   ],
   "source": [
    "from math import pow, pi\n",
    "\n",
    "try:\n",
    "    raio = float(input(\"Digite um valor pra um raio: \"))\n",
    "    if raio > 0:\n",
    "        area = pi*pow(raio, 2)\n",
    "\n",
    "        print(\"A área do círculo é {:.2f}\".format(area))\n",
    "    else:\n",
    "        if raio == 0:\n",
    "            print(\"Não há área, pois o raio é igual a 0\")\n",
    "        else:\n",
    "            print(\"O raio não é positivo\")\n",
    "except:\n",
    "    print(\"Não é um número\")"
   ]
  },
  {
   "cell_type": "markdown",
   "metadata": {},
   "source": [
    "6. Faça um Programa que calcule a área de um quadrado, em seguida mostre o dobro desta área para o usuário."
   ]
  },
  {
   "cell_type": "code",
   "execution_count": 52,
   "metadata": {},
   "outputs": [
    {
     "name": "stdout",
     "output_type": "stream",
     "text": [
      "O lado não é positivo\n"
     ]
    }
   ],
   "source": [
    "from math import pow\n",
    "\n",
    "try:\n",
    "    lado = float(input(\"Digite o lado do quadrado: \"))\n",
    "    if lado > 0:\n",
    "        area = pow(lado, 2)\n",
    "        print(f\"A área desse quadrado é {area} e o seu dobro é {2*area}\")\n",
    "    else:\n",
    "        if lado == 0:\n",
    "            print(\"Não há área, pois o lado é igual a 0\")\n",
    "        else:\n",
    "            print(\"O lado não é positivo\")\n",
    "except:\n",
    "    print(\"Não é um número\")"
   ]
  },
  {
   "cell_type": "markdown",
   "metadata": {},
   "source": [
    "7. Faça um Programa que pergunte quanto você ganha por hora e o número de horas trabalhadas no mês. Calcule e mostre o total do seu salário no referido mês."
   ]
  },
  {
   "cell_type": "code",
   "execution_count": 54,
   "metadata": {},
   "outputs": [
    {
     "name": "stdout",
     "output_type": "stream",
     "text": [
      "O seu salário é de 4500.0\n"
     ]
    }
   ],
   "source": [
    "try:\n",
    "    lucroHora = float(input(\"Quanto você ganha por hora?: \"))\n",
    "    if lucroHora > 0:\n",
    "        horasMes = int(input(\"Quantas horas você trabalha por mês?: \"))\n",
    "        if horasMes > 0:\n",
    "            salario = lucroHora*horasMes\n",
    "            print(f\"O seu salário é de {salario}\")\n",
    "        else:\n",
    "            if horasMes == 0:\n",
    "                print(\"Não há salário\")\n",
    "            else:\n",
    "                print(\"Esse valor não pode ser negativo\")\n",
    "    else:\n",
    "        if lucroHora == 0:\n",
    "            print(\"Não há salário\")\n",
    "        else:\n",
    "            print(\"Esse valor não pode ser negativo\")\n",
    "except:\n",
    "    print(\"Não é um número\")"
   ]
  },
  {
   "cell_type": "markdown",
   "metadata": {},
   "source": [
    "8. Faça um Programa que peça a temperatura em graus Farenheit, transforme e mostre a temperatura em graus Celsius. C = (5 * (F-32) / 9)."
   ]
  },
  {
   "cell_type": "code",
   "execution_count": 9,
   "metadata": {},
   "outputs": [
    {
     "name": "stdout",
     "output_type": "stream",
     "text": [
      "A temperatura 0.0°F em celsius é -17.78°C\n"
     ]
    }
   ],
   "source": [
    "try:\n",
    "    farenheit = float(input(\"Digite uma temperatura em farenheit: \"))\n",
    "    celsius = (5/9*(farenheit-32))\n",
    "\n",
    "    print(\"A temperatura {}°F em celsius é {:.2f}°C\".format(farenheit, celsius))\n",
    "except:\n",
    "    print(\"Não é um número\")"
   ]
  },
  {
   "cell_type": "markdown",
   "metadata": {},
   "source": [
    "9. Faça um Programa que peça a temperatura em graus Celsius, transforme e mostre em graus Farenheit."
   ]
  },
  {
   "cell_type": "code",
   "execution_count": 10,
   "metadata": {},
   "outputs": [
    {
     "name": "stdout",
     "output_type": "stream",
     "text": [
      "A temperatura -17.78°C em farenheit é -0.00°F\n"
     ]
    }
   ],
   "source": [
    "try:\n",
    "    celsius = float(input(\"Digite uma temperatura em farenheit: \"))\n",
    "    farenheit = ((9/5*celsius)+32)\n",
    "\n",
    "    print(\"A temperatura {}°C em farenheit é {:.2f}°F\".format(celsius, farenheit))\n",
    "except:\n",
    "    print(\"Não é um número\")"
   ]
  },
  {
   "cell_type": "markdown",
   "metadata": {},
   "source": [
    "10. Elaborar um algoritmo que efetue a apresentação do valor da conversão em real (R$) de um valor lido em dólar (US$). O algoritmo deverá solicitar o valor da cotação do dólar e também a quantidade de dólares disponíveis com o usuário."
   ]
  },
  {
   "cell_type": "code",
   "execution_count": 15,
   "metadata": {},
   "outputs": [
    {
     "name": "stdout",
     "output_type": "stream",
     "text": [
      "O valor em real de 0.0 US$ é 0.0 R$\n"
     ]
    }
   ],
   "source": [
    "try:\n",
    "    cotacao = float(input('Digite o valor da cotação atual: '))\n",
    "    if cotacao > 0:\n",
    "        dolar = float(input('Digite quantos dólares você tem disponível: '))\n",
    "        if dolar >= 0:\n",
    "            real = dolar*cotacao\n",
    "            print(f'O valor em real de {dolar} US$ é {real} R$')\n",
    "        else:\n",
    "            print('O valor do dólar não pode ser negativo')\n",
    "    else:\n",
    "        if cotacao == 0:\n",
    "            print('O valor da cotação não pode ser nulo')\n",
    "        else:\n",
    "            print('O valor da cotação não pode ser negativo')\n",
    "except:\n",
    "    print(\"Não é um número\")"
   ]
  }
 ],
 "metadata": {
  "kernelspec": {
   "display_name": "Python 3",
   "language": "python",
   "name": "python3"
  },
  "language_info": {
   "codemirror_mode": {
    "name": "ipython",
    "version": 3
   },
   "file_extension": ".py",
   "mimetype": "text/x-python",
   "name": "python",
   "nbconvert_exporter": "python",
   "pygments_lexer": "ipython3",
   "version": "3.12.2"
  }
 },
 "nbformat": 4,
 "nbformat_minor": 2
}
