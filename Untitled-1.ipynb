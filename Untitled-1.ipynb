{
 "cells": [
  {
   "cell_type": "markdown",
   "metadata": {},
   "source": [
    "1. Faça um Programa que peça um número e então mostre a mensagem: O número informado foi [número]."
   ]
  },
  {
   "cell_type": "code",
   "execution_count": null,
   "metadata": {},
   "outputs": [],
   "source": [
    "try:\n",
    "    num = float(input(\"Digite um número: \"))\n",
    "    print(f\"O número informado foi {num}\")\n",
    "except:\n",
    "    print(\"Não é um número\")"
   ]
  },
  {
   "cell_type": "markdown",
   "metadata": {},
   "source": [
    "2. Faça um Programa que peça dois números e imprima a soma."
   ]
  },
  {
   "cell_type": "code",
   "execution_count": null,
   "metadata": {},
   "outputs": [],
   "source": [
    "try:\n",
    "    num1 = float(input(\"Digite o primeiro número: \").replace(',', '.'))\n",
    "    num2 = float(input(\"Digite o segundo número: \").replace(',', '.'))\n",
    "\n",
    "    print(f\"A soma entre {num1} e {num2} é {num1+num2}\")\n",
    "except:\n",
    "    print(\"Não é um número\")"
   ]
  },
  {
   "cell_type": "markdown",
   "metadata": {},
   "source": [
    "3. Faça um Programa que peça as 4 notas bimestrais e mostre a média."
   ]
  },
  {
   "cell_type": "code",
   "execution_count": null,
   "metadata": {},
   "outputs": [],
   "source": [
    "try: \n",
    "    nota1 = float(input(\"Digite a primeira nota: \").replace(',', '.'))\n",
    "    if nota1 >= 0:\n",
    "        nota2 = float(input(\"Digite a segunda nota: \").replace(',', '.'))\n",
    "        if nota2 >= 0:\n",
    "            nota3 = float(input(\"Digite a terceira nota: \").replace(',', '.'))\n",
    "            if nota3 >= 0:\n",
    "                nota4 = float(input(\"Digite a quarta nota: \").replace(',', '.'))\n",
    "                if nota4 >= 0:\n",
    "                    media = (nota1+nota2+nota3+nota4)/4\n",
    "                    print(f\"Sua média é {media}\")\n",
    "                else:\n",
    "                    print(\"Essa nota não é positiva\")\n",
    "            else:\n",
    "                print(\"Essa nota não é positiva\")\n",
    "        else:\n",
    "            print(\"Essa nota não é positiva\")\n",
    "    else:\n",
    "        print(\"Essa nota não é positiva\")\n",
    "\n",
    "except:\n",
    "    print(\"Não é um número\")"
   ]
  },
  {
   "cell_type": "markdown",
   "metadata": {},
   "source": [
    "4. Faça um Programa que converta metros para centímetros."
   ]
  },
  {
   "cell_type": "code",
   "execution_count": null,
   "metadata": {},
   "outputs": [],
   "source": [
    "try:\n",
    "    metro = float(input(\"Digite uma distância em metros: \").replace(',', '.'))\n",
    "    if metro >= 0:\n",
    "        cm = metro*100\n",
    "        print(f\"Sua distância {metro}m em cm é: {cm}cm\")\n",
    "    else:\n",
    "        print(\"Essa medida não é positiva\")\n",
    "\n",
    "except:\n",
    "    print(\"Não é um número\")"
   ]
  },
  {
   "cell_type": "markdown",
   "metadata": {},
   "source": [
    "5. Faça um Programa que peça o raio de um círculo, calcule e mostre sua área."
   ]
  },
  {
   "cell_type": "code",
   "execution_count": null,
   "metadata": {},
   "outputs": [],
   "source": [
    "from math import pow, pi\n",
    "\n",
    "try:\n",
    "    raio = float(input(\"Digite um valor pra um raio: \").replace(',', '.'))\n",
    "    if raio > 0:\n",
    "        area = pi*pow(raio, 2)\n",
    "\n",
    "        print(\"A área do círculo é {:.2f}\".format(area))\n",
    "    else:\n",
    "        if raio == 0:\n",
    "            print(\"Não há área, pois o raio é igual a 0\")\n",
    "        else:\n",
    "            print(\"O raio não é positivo\")\n",
    "except:\n",
    "    print(\"Não é um número\")"
   ]
  },
  {
   "cell_type": "markdown",
   "metadata": {},
   "source": [
    "6. Faça um Programa que calcule a área de um quadrado, em seguida mostre o dobro desta área para o usuário."
   ]
  },
  {
   "cell_type": "code",
   "execution_count": null,
   "metadata": {},
   "outputs": [],
   "source": [
    "from math import pow\n",
    "\n",
    "try:\n",
    "    lado = float(input(\"Digite o lado do quadrado: \").replace(',', '.'))\n",
    "    if lado > 0:\n",
    "        area = pow(lado, 2)\n",
    "        print(f\"A área desse quadrado é {area} e o seu dobro é {2*area}\")\n",
    "    else:\n",
    "        if lado == 0:\n",
    "            print(\"Não há área, pois o lado é igual a 0\")\n",
    "        else:\n",
    "            print(\"O lado não é positivo\")\n",
    "except:\n",
    "    print(\"Não é um número\")"
   ]
  },
  {
   "cell_type": "markdown",
   "metadata": {},
   "source": [
    "7. Faça um Programa que pergunte quanto você ganha por hora e o número de horas trabalhadas no mês. Calcule e mostre o total do seu salário no referido mês."
   ]
  },
  {
   "cell_type": "code",
   "execution_count": null,
   "metadata": {},
   "outputs": [],
   "source": [
    "try:\n",
    "    lucroHora = float(input(\"Quanto você ganha por hora?: \").replace(',', '.'))\n",
    "    if lucroHora > 0:\n",
    "        horasMes = int(input(\"Quantas horas você trabalha por mês?: \"))\n",
    "        if horasMes > 0:\n",
    "            salario = lucroHora*horasMes\n",
    "            print(f\"O seu salário é de {salario}\")\n",
    "        else:\n",
    "            print('Esse valor deve ser maior que 0')\n",
    "    else:\n",
    "        print('Esse valor deve ser maior que 0')\n",
    "except:\n",
    "    print(\"Não é um número\")"
   ]
  },
  {
   "cell_type": "markdown",
   "metadata": {},
   "source": [
    "8. Faça um Programa que peça a temperatura em graus Farenheit, transforme e mostre a temperatura em graus Celsius. C = (5 * (F-32) / 9)."
   ]
  },
  {
   "cell_type": "code",
   "execution_count": null,
   "metadata": {},
   "outputs": [],
   "source": [
    "try:\n",
    "    farenheit = float(input(\"Digite uma temperatura em farenheit: \").replace(',', '.'))\n",
    "    celsius = (5/9*(farenheit-32))\n",
    "\n",
    "    print(\"A temperatura {}°F em celsius é {:.2f}°C\".format(farenheit, celsius))\n",
    "except:\n",
    "    print(\"Não é um número\")"
   ]
  },
  {
   "cell_type": "markdown",
   "metadata": {},
   "source": [
    "9. Faça um Programa que peça a temperatura em graus Celsius, transforme e mostre em graus Farenheit."
   ]
  },
  {
   "cell_type": "code",
   "execution_count": null,
   "metadata": {},
   "outputs": [],
   "source": [
    "try:\n",
    "    celsius = float(input(\"Digite uma temperatura em farenheit: \").replace(',', '.'))\n",
    "    farenheit = ((9/5*celsius)+32)\n",
    "\n",
    "    print(\"A temperatura {}°C em farenheit é {:.2f}°F\".format(celsius, farenheit))\n",
    "except:\n",
    "    print(\"Não é um número\")"
   ]
  },
  {
   "cell_type": "markdown",
   "metadata": {},
   "source": [
    "10. Elaborar um algoritmo que efetue a apresentação do valor da conversão em real (R$) de um valor lido em dólar (US$). O algoritmo deverá solicitar o valor da cotação do dólar e também a quantidade de dólares disponíveis com o usuário."
   ]
  },
  {
   "cell_type": "code",
   "execution_count": null,
   "metadata": {},
   "outputs": [],
   "source": [
    "try:\n",
    "    cotacao = float(input('Digite o valor da cotação atual: ').replace(',', '.'))\n",
    "    if cotacao > 0:\n",
    "        dolar = float(input('Digite quantos dólares você tem disponível: ').replace(',', '.'))\n",
    "        if dolar >= 0:\n",
    "            real = dolar*cotacao\n",
    "            print(f'O valor em real de {dolar} US$ é R$ {real}')\n",
    "        else:\n",
    "            print('O valor do dólar não pode ser negativo')\n",
    "    else:\n",
    "        print('Esse valor deve ser maior que 0')\n",
    "except:\n",
    "    print(\"Não é um número\")"
   ]
  },
  {
   "cell_type": "markdown",
   "metadata": {},
   "source": [
    "11. Faca um algoritmo que receba um valor que foi depositado e exiba o valor com rendimento apos um mes. Considere fixo o juro da poupanca em 0,70% a. m."
   ]
  },
  {
   "cell_type": "code",
   "execution_count": null,
   "metadata": {},
   "outputs": [],
   "source": [
    "from math import pow\n",
    "\n",
    "meses = 1\n",
    "taxa = 1.007\n",
    "\n",
    "try:\n",
    "    valor = float(input('Digite o valor inicial: ').replace(',', '.'))\n",
    "\n",
    "    #considerando uma variação em juros compostos\n",
    "    if valor > 0:\n",
    "        montante = valor * pow(taxa, meses)\n",
    "        print('Seu valor total com o rendimento foi de R${:.2f}'.format(montante))\n",
    "    else:\n",
    "        if valor == 0:\n",
    "            print('Não há rendimento, pois o capital é 0')\n",
    "        else:\n",
    "            print('Esse valor não pode ser negativo')\n",
    "except:\n",
    "    print('Não é um número')"
   ]
  },
  {
   "cell_type": "markdown",
   "metadata": {},
   "source": [
    "12. A Loja Mamao com Acucar esta vendendo seus produtos em 5 (cinco) prestacoes sem juros. Faca um algoritmo que receba um valor de uma compra e mostre o valor das prestacoes."
   ]
  },
  {
   "cell_type": "code",
   "execution_count": null,
   "metadata": {},
   "outputs": [],
   "source": [
    "try:\n",
    "    valor = float(input('Digite o valor de uma compra na Loja Mamão com Açúcar: ').replace(',', '.'))\n",
    "\n",
    "    if valor > 0:\n",
    "        prestacoes = valor/5\n",
    "        print('O valor das prestações é {:.2f}'.format(prestacoes))\n",
    "    else:\n",
    "        print('Esse valor deve ser maior que 0')\n",
    "except:\n",
    "    print('Não é um número')"
   ]
  },
  {
   "cell_type": "markdown",
   "metadata": {},
   "source": [
    "13. Faca um algoritmo que receba o preco de custo de um produto e mostre o valor de venda. Sabe-se que o preco de custo recebera um acrescimo de acordo com um percentual informado pelo usuario."
   ]
  },
  {
   "cell_type": "code",
   "execution_count": null,
   "metadata": {},
   "outputs": [],
   "source": [
    "try:\n",
    "    custo = float(input('Digite o valor de custo de uma venda: ').replace(',', '.'))\n",
    "    if custo > 0:\n",
    "        acrescimo = float(input('Digite um valor de acréscimo: %').replace(',', '.'))\n",
    "        if acrescimo > 0:\n",
    "            venda = custo * (1+(acrescimo/100))\n",
    "            print('O valor de venda do produto é {:.2f}'.format(venda))\n",
    "        else:\n",
    "            print('Esse valor deve ser maior que 0')\n",
    "    else:\n",
    "        print('Esse valor deve ser maior que 0')\n",
    "except:\n",
    "    print('Não é um número')"
   ]
  },
  {
   "cell_type": "markdown",
   "metadata": {},
   "source": [
    "14. Escrever um algoritmo para determinar o consumo medio de um automovel sendo fornecida a distancia total percorrida pelo automovel e o total de combustivel gasto."
   ]
  },
  {
   "cell_type": "code",
   "execution_count": null,
   "metadata": {},
   "outputs": [],
   "source": [
    "try:\n",
    "    deslocamento = float(input('Qual a distância percorrida pelo automóvel em Km?: ').replace(',', '.'))\n",
    "    if deslocamento > 0:\n",
    "        consumo = float(input('Qual o consumo total do automóvel em L: ').replace(',', '.'))\n",
    "        if consumo > 0:\n",
    "            media = deslocamento/consumo\n",
    "            print('O consumo médio em Km/L é de {:.2f}'.format(media))\n",
    "        else:\n",
    "            print('O consumo deve ser maior que 0 L')\n",
    "    else:\n",
    "        print('O deslocamento deve ser maior que 0 Km')\n",
    "except:\n",
    "    print('Não é um número')"
   ]
  },
  {
   "cell_type": "markdown",
   "metadata": {},
   "source": [
    "15. Escreva um programa que leia tres numeros inteiros e positivos (A, B, C) e calcule a seguinte expressao: D = (R+S)/2 onde R = (A+B)^2 e S = (B+C)^2"
   ]
  },
  {
   "cell_type": "code",
   "execution_count": null,
   "metadata": {},
   "outputs": [],
   "source": [
    "from math import pow\n",
    "\n",
    "try:\n",
    "    numA = int(input('Digite o valor de A: '))\n",
    "    if numA > 0:\n",
    "        numB = int(input('Digite o valor de B: '))\n",
    "        if numB > 0:\n",
    "            numC = int(input('Digite o valor de C: '))\n",
    "            if numC > 0:\n",
    "                numR, numS = pow((numA+numB), 2), pow((numB+numC), 2)\n",
    "                numD = (numR+numS)/2\n",
    "                print(numD)\n",
    "            else:\n",
    "                print('O valor de C deve ser inteiro e positivo')\n",
    "        else:\n",
    "            print('O valor de B deve ser inteiro e positivo')\n",
    "    else:\n",
    "        print('O valor de A deve ser inteiro e positivo')\n",
    "except:\n",
    "    print('Não é um número e inteiro')"
   ]
  },
  {
   "cell_type": "markdown",
   "metadata": {},
   "source": [
    "16. Escrever um algoritmo que leia o nome de um vendedor, o seu salário fixo e o total de vendas efetuadas por ele no mês (em dinheiro). Sabendo que este vendedor ganha 15% de comissão sobre suas vendas efetuadas, informar o seu nome, o salário fixo e salário no final do mês. \n"
   ]
  },
  {
   "cell_type": "code",
   "execution_count": null,
   "metadata": {},
   "outputs": [],
   "source": [
    "try:\n",
    "    nome = str(input('Digite o seu nome: '))\n",
    "    fixo = float(input('Qual é o valor do seu salário fixo?: ').replace(',', '.'))\n",
    "\n",
    "    if fixo > 0:\n",
    "        vendas = float(input('Qual é o valor, em dinheiro, total de vendas efetuadas por você em um mês?: ').replace(',', '.'))\n",
    "\n",
    "        if vendas > 0:\n",
    "            comissao = 15/100\n",
    "            total = fixo + vendas*(1+comissao)\n",
    "\n",
    "            print(f\"\"\"\n",
    "Nome: {nome}\n",
    "Salário fixo: {fixo}\n",
    "Salário no final do mês: {total}\n",
    "\"\"\")\n",
    "        else:\n",
    "            print('O valor das suas vendas deve ser maior que 0')\n",
    "    else:\n",
    "        print('O valor do salário deve ser maior que 0')\n",
    "except:\n",
    "    print('O tipo de informação está incorreto')"
   ]
  },
  {
   "cell_type": "markdown",
   "metadata": {},
   "source": [
    "17. Faça um Programa que peça 2 números inteiros e um número real. Calcule e mostre: a) o produto do dobro do primeiro com metade do segundo. b) a soma do triplo do primeiro com o terceiro. c) o terceiro elevado ao cubo."
   ]
  },
  {
   "cell_type": "code",
   "execution_count": null,
   "metadata": {},
   "outputs": [],
   "source": [
    "from math import pow\n",
    "\n",
    "try:\n",
    "    num1 = int(input('Digite o primeiro número inteiro: '))\n",
    "    num2 = int(input('Digite o segundo número inteiro: '))\n",
    "    num3 = float(input('Digite o número real: ').replace(',', '.'))\n",
    "\n",
    "    altA = (num1*2) * (num2/2)\n",
    "    altB = (num1*3) + num3\n",
    "    altC = pow(num3, 3)\n",
    "    print(f'\\na) {altA}\\nb) {altB}\\nc) {altC}')\n",
    "except:\n",
    "    print('Não é um valor válido')\n"
   ]
  },
  {
   "cell_type": "markdown",
   "metadata": {},
   "source": [
    "18. Tendo como dados de entrada a altura de uma pessoa, construa um algoritmo que calcule seu peso ideal, usando a seguinte fórmula: (72.7*altura) – 58."
   ]
  },
  {
   "cell_type": "code",
   "execution_count": null,
   "metadata": {},
   "outputs": [],
   "source": [
    "try:\n",
    "    altura = float(input('Digite a sua altura em metros: ').replace(',', '.'))\n",
    "    if altura > 0:\n",
    "        pesoIdeal = (72.7*altura) - 58\n",
    "        print('Seu peso ideal deve ser de {:.2f}'.format(pesoIdeal))\n",
    "    else:\n",
    "        print('Sua altura deve ser maior que 0m')\n",
    "except:\n",
    "    print('Não é um número')"
   ]
  },
  {
   "cell_type": "code",
   "execution_count": null,
   "metadata": {},
   "outputs": [],
   "source": []
  },
  {
   "cell_type": "markdown",
   "metadata": {},
   "source": [
    "19. Faça um programa que peça o tamanho de um arquivo para download (em MB) e a velocidade de um link de Internet (em MBps), calcule e informe o tempo aproximado de download do arquivo usando este link (em minutos)."
   ]
  },
  {
   "cell_type": "code",
   "execution_count": null,
   "metadata": {},
   "outputs": [],
   "source": [
    "try:\n",
    "    tamanoarq = float(input('Digite o tamanho do arquivo para download em MB: ').replace(',', '.'))\n",
    "    if tamanoarq > 0:\n",
    "        velocidade = float(input('Digite a velocidade da sua internet em MBps: ').replace(',', '.'))\n",
    "        if velocidade > 0:\n",
    "            tempomin = int((tamanoarq/velocidade)/60)\n",
    "            temposeg = int((tamanoarq/velocidade)%60)\n",
    "\n",
    "            print(f'O tempo aproximado para download será de aproximadamente: {tempomin}min {temposeg}seg')\n",
    "    else:\n",
    "        pass\n",
    "except:\n",
    "    pass"
   ]
  },
  {
   "cell_type": "markdown",
   "metadata": {},
   "source": [
    "20. Ler dois valores para as variáveis A e B, e efetuar as trocas dos valores de forma que a variável A passe a possuir o valor da variável B e a variável B passe a possuir o valor da variável A. Apresentar os valores trocados."
   ]
  },
  {
   "cell_type": "code",
   "execution_count": null,
   "metadata": {},
   "outputs": [],
   "source": [
    "varA = input('Digite um valor para a variável A: ')\n",
    "varB = input('Digite um valor para a variável B: ')\n",
    "varA, varB = varB, varA\n",
    "\n",
    "print(f'A: {varA}\\nB: {varB}')"
   ]
  },
  {
   "cell_type": "markdown",
   "metadata": {},
   "source": [
    "Faça um Programa que pergunte quanto você ganha por hora e o número de horas trabalhadas no mês. Calcule e mostre o total do seu salário no referido mês, sabendo-se que são descontados 11% para o Imposto de Renda, 8% para o INSS e 5% para o sindicato, faça um programa que nos dê: a) salário bruto. b) quanto pagou ao INSS. c) quanto pagou ao sindicato. e) calcule os descontos e o salário líquido, conforme a tabela abaixo:\n",
    "\n",
    "Salário Bruto : R$\n",
    "IR (11%) : R$\n",
    "INSS (8%) : R$\n",
    "Sindicato ( 5%) : R$\n",
    "Salário Liquido : R$\n"
   ]
  },
  {
   "cell_type": "code",
   "execution_count": null,
   "metadata": {},
   "outputs": [],
   "source": [
    "try:\n",
    "    ganhoHora = float(input('Quanto você ganha por hora?: R$').replace(',', '.'))\n",
    "    if ganhoHora > 0:\n",
    "        horasmes = int(input('Quantas horas você trabalha no mês?: R$'))\n",
    "        if horasmes > 0:\n",
    "            salarioBruto = ganhoHora*horasmes\n",
    "            ir = (11/100)*salarioBruto\n",
    "            inss = (8/100)*salarioBruto\n",
    "            sindicato = (5/100)*salarioBruto\n",
    "            salarioLiquido = salarioBruto - (ir+inss+sindicato)\n",
    "\n",
    "            print(f\"\"\"\n",
    "Salário Bruto : {salarioBruto}R$\n",
    "IR (11%) : {ir}R$\n",
    "INSS (8%) : {inss}R$\n",
    "Sindicato ( 5%) : {sindicato}R$\n",
    "Salário Liquido : {salarioLiquido}R$\"\"\")\n",
    "        else:\n",
    "            print('O valor das horas deve ser maior que 0')\n",
    "    else:\n",
    "        print('O valor do lucro deve ser maior que 0')\n",
    "except:\n",
    "    print('O valor não é um número')"
   ]
  }
 ],
 "metadata": {
  "kernelspec": {
   "display_name": "Python 3",
   "language": "python",
   "name": "python3"
  },
  "language_info": {
   "codemirror_mode": {
    "name": "ipython",
    "version": 3
   },
   "file_extension": ".py",
   "mimetype": "text/x-python",
   "name": "python",
   "nbconvert_exporter": "python",
   "pygments_lexer": "ipython3",
   "version": "3.12.2"
  }
 },
 "nbformat": 4,
 "nbformat_minor": 2
}
